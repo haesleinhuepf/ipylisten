{
 "cells": [
  {
   "cell_type": "code",
   "execution_count": 1,
   "id": "8fa41354-1fa8-4bb0-a863-fc5b89a3b9c3",
   "metadata": {},
   "outputs": [],
   "source": [
    "from sand_bob import alice, initialize\n",
    "initialize(n_parallel=3)"
   ]
  },
  {
   "cell_type": "code",
   "execution_count": 2,
   "id": "a5b3fa30-9464-4d1a-aa4d-d1e02c190660",
   "metadata": {},
   "outputs": [],
   "source": [
    "from ipylisten import listen, set_prefix\n",
    "set_prefix(\"%%alice\\n\")"
   ]
  },
  {
   "cell_type": "code",
   "execution_count": null,
   "id": "65c129d5-1f52-46a6-8d0b-1e27c3b16de0",
   "metadata": {},
   "outputs": [],
   "source": [
    "listen()"
   ]
  },
  {
   "cell_type": "code",
   "execution_count": 3,
   "id": "4ee35a1e-8bfb-49b6-b048-0ab80a3aeb4d",
   "metadata": {},
   "outputs": [
    {
     "data": {
      "text/html": [],
      "text/plain": [
       "<IPython.core.display.HTML object>"
      ]
     },
     "metadata": {},
     "output_type": "display_data"
    },
    {
     "data": {
      "text/html": [],
      "text/plain": [
       "<IPython.core.display.HTML object>"
      ]
     },
     "metadata": {},
     "output_type": "display_data"
    },
    {
     "data": {
      "text/html": [],
      "text/plain": [
       "<IPython.core.display.HTML object>"
      ]
     },
     "metadata": {},
     "output_type": "display_data"
    },
    {
     "data": {
      "application/vnd.jupyter.widget-view+json": {
       "model_id": "0f9dc86e1de1473ca0b380793b3370b9",
       "version_major": 2,
       "version_minor": 0
      },
      "text/plain": [
       "Tab(children=(Tab(children=(Output(), Output(), Output(), Output(), Output(), Output()), layout=Layout(height=…"
      ]
     },
     "metadata": {},
     "output_type": "display_data"
    },
    {
     "data": {
      "text/html": [],
      "text/plain": [
       "<sand_bob._executor.ExecutionResultList at 0x2a14b39ddd0>"
      ]
     },
     "metadata": {},
     "output_type": "display_data"
    }
   ],
   "source": [
    "%%alice\n",
    "Plot a sigmoid."
   ]
  },
  {
   "cell_type": "code",
   "execution_count": null,
   "id": "57a317e9-52ba-4b36-b246-fb0fae8550b3",
   "metadata": {},
   "outputs": [],
   "source": []
  }
 ],
 "metadata": {
  "kernelspec": {
   "display_name": "Python 3 (ipykernel)",
   "language": "python",
   "name": "python3"
  },
  "language_info": {
   "codemirror_mode": {
    "name": "ipython",
    "version": 3
   },
   "file_extension": ".py",
   "mimetype": "text/x-python",
   "name": "python",
   "nbconvert_exporter": "python",
   "pygments_lexer": "ipython3",
   "version": "3.11.13"
  }
 },
 "nbformat": 4,
 "nbformat_minor": 5
}
